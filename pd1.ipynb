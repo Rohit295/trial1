{
 "cells": [
  {
   "cell_type": "code",
   "execution_count": 11,
   "id": "36d9bb01-12a2-4f8a-8daf-21663b10bda5",
   "metadata": {},
   "outputs": [],
   "source": [
    "import pandas as pd\n",
    "import numpy as np"
   ]
  },
  {
   "cell_type": "code",
   "execution_count": 3,
   "id": "2a8ea3b3-ca10-460d-8f91-8ef51be5e71e",
   "metadata": {},
   "outputs": [
    {
     "data": {
      "text/plain": [
       "0     10\n",
       "1     20\n",
       "2    400\n",
       "3     54\n",
       "dtype: int64"
      ]
     },
     "execution_count": 3,
     "metadata": {},
     "output_type": "execute_result"
    }
   ],
   "source": [
    "s1 = pd.Series([10, 20, 400, 54])\n",
    "s1"
   ]
  },
  {
   "cell_type": "code",
   "execution_count": 5,
   "id": "a3fa3169-93ef-4a5b-9268-06169a0eeb98",
   "metadata": {},
   "outputs": [
    {
     "data": {
      "text/plain": [
       "pandas.core.series.Series"
      ]
     },
     "execution_count": 5,
     "metadata": {},
     "output_type": "execute_result"
    }
   ],
   "source": [
    "# create a series where the index is alpha\n",
    "lAges = [50, 50, 20, 18, 8]\n",
    "lAgesIndex = [\"Rohit\", \"Rohini\", \"Inika\", \"Ilakshi\", \"Silny\"]\n",
    "sAges = pd.Series(lAges, lAgesIndex)\n",
    "type(sAges)"
   ]
  },
  {
   "cell_type": "code",
   "execution_count": 10,
   "id": "b8a21990-6e25-4db8-8690-d6cd79b99edc",
   "metadata": {},
   "outputs": [
    {
     "data": {
      "text/plain": [
       "Inika      20\n",
       "Rohini     50\n",
       "Ilakshi    18\n",
       "Rohit      50\n",
       "dtype: int64"
      ]
     },
     "execution_count": 10,
     "metadata": {},
     "output_type": "execute_result"
    }
   ],
   "source": [
    "# create a Series using a Dictionary\n",
    "dict1 = {\"Ilakshi\":18, \"Inika\":20, \"Rohini\":50, \"Rohit\":50 }\n",
    "sAges2 = pd.Series(dict1, index=[\"Inika\", \"Rohini\", \"Ilakshi\", \"Rohit\"])\n",
    "sAges2"
   ]
  },
  {
   "cell_type": "code",
   "execution_count": 12,
   "id": "89694ec6-1f13-4528-add6-f2affbb1178b",
   "metadata": {},
   "outputs": [
    {
     "data": {
      "text/plain": [
       "Accent        2001\n",
       "Scorpio       2005\n",
       "XUV           2012\n",
       "Highlander    2022\n",
       "Sonata        2022\n",
       "dtype: int64"
      ]
     },
     "execution_count": 12,
     "metadata": {},
     "output_type": "execute_result"
    }
   ],
   "source": [
    "#create a series using numpy arrays\n",
    "arrCars = np.array([\"Accent\", \"Scorpio\", \"XUV\", \"Highlander\", \"Sonata\"])\n",
    "arrYearBought = np.array([2001, 2005, 2012, 2022, 2022])\n",
    "sCars = pd.Series(arrYearBought, arrCars)\n",
    "sCars"
   ]
  },
  {
   "cell_type": "code",
   "execution_count": 16,
   "id": "84e572fa-09e1-40b1-bbfe-55bcfaf0c7d2",
   "metadata": {},
   "outputs": [
    {
     "data": {
      "text/html": [
       "<div>\n",
       "<style scoped>\n",
       "    .dataframe tbody tr th:only-of-type {\n",
       "        vertical-align: middle;\n",
       "    }\n",
       "\n",
       "    .dataframe tbody tr th {\n",
       "        vertical-align: top;\n",
       "    }\n",
       "\n",
       "    .dataframe thead th {\n",
       "        text-align: right;\n",
       "    }\n",
       "</style>\n",
       "<table border=\"1\" class=\"dataframe\">\n",
       "  <thead>\n",
       "    <tr style=\"text-align: right;\">\n",
       "      <th></th>\n",
       "      <th>Color</th>\n",
       "      <th>Year</th>\n",
       "    </tr>\n",
       "  </thead>\n",
       "  <tbody>\n",
       "    <tr>\n",
       "      <th>Accent</th>\n",
       "      <td>Black</td>\n",
       "      <td>2001</td>\n",
       "    </tr>\n",
       "    <tr>\n",
       "      <th>Scorpio</th>\n",
       "      <td>Beige</td>\n",
       "      <td>2005</td>\n",
       "    </tr>\n",
       "    <tr>\n",
       "      <th>XUV</th>\n",
       "      <td>White</td>\n",
       "      <td>2012</td>\n",
       "    </tr>\n",
       "    <tr>\n",
       "      <th>Highlander</th>\n",
       "      <td>White</td>\n",
       "      <td>2022</td>\n",
       "    </tr>\n",
       "    <tr>\n",
       "      <th>Sonata</th>\n",
       "      <td>Blue</td>\n",
       "      <td>2022</td>\n",
       "    </tr>\n",
       "  </tbody>\n",
       "</table>\n",
       "</div>"
      ],
      "text/plain": [
       "            Color  Year\n",
       "Accent      Black  2001\n",
       "Scorpio     Beige  2005\n",
       "XUV         White  2012\n",
       "Highlander  White  2022\n",
       "Sonata       Blue  2022"
      ]
     },
     "execution_count": 16,
     "metadata": {},
     "output_type": "execute_result"
    }
   ],
   "source": [
    "arrColor = np.array([\"Black\", \"Beige\", \"White\", \"White\", \"Blue\"])\n",
    "dCars = pd.DataFrame({\"Year\":arrYearBought, \"Color\":arrColor}, arrCars, [\"Color\", \"Year\"] )\n",
    "dCars"
   ]
  },
  {
   "cell_type": "code",
   "execution_count": 29,
   "id": "f8a378b0-6d30-42d6-a4d8-2461d4c5e357",
   "metadata": {},
   "outputs": [
    {
     "data": {
      "text/plain": [
       "<bound method Series.items of Accent        2001\n",
       "Scorpio       2005\n",
       "XUV           2012\n",
       "Highlander    2022\n",
       "Sonata        2022\n",
       "dtype: int64>"
      ]
     },
     "execution_count": 29,
     "metadata": {},
     "output_type": "execute_result"
    }
   ],
   "source": [
    "sCars.items"
   ]
  },
  {
   "cell_type": "code",
   "execution_count": 31,
   "id": "ee0daa4b-e586-4f49-97cd-ccb4b4668ccf",
   "metadata": {},
   "outputs": [
    {
     "data": {
      "text/plain": [
       "Turkey     +90\n",
       "Germany    +49\n",
       "France     +33\n",
       "Sweden     +46\n",
       "USA         +1\n",
       "India      +91\n",
       "dtype: object"
      ]
     },
     "execution_count": 31,
     "metadata": {},
     "output_type": "execute_result"
    }
   ],
   "source": [
    "sPhoneCodes = pd.Series([\"+90\", \"+49\", \"+33\", \"+46\", \"+1\", \"+91\"], [\"Turkey\", \"Germany\", \"France\", \"Sweden\", \"USA\", \"India\"])\n",
    "sPhoneCodes"
   ]
  },
  {
   "cell_type": "code",
   "execution_count": 37,
   "id": "ac71f1f1-8a61-4e06-84b5-e3f74e39f097",
   "metadata": {},
   "outputs": [
    {
     "data": {
      "text/plain": [
       "Turkey     +90\n",
       "Germany    +49\n",
       "France     +33\n",
       "Sweden     +46\n",
       "dtype: object"
      ]
     },
     "execution_count": 37,
     "metadata": {},
     "output_type": "execute_result"
    }
   ],
   "source": [
    "sPhoneCodes[\"Turkey\":\"Sweden\"]"
   ]
  },
  {
   "cell_type": "code",
   "execution_count": 38,
   "id": "e2f69a6b-34f2-46f8-99b9-00ee043e70ba",
   "metadata": {},
   "outputs": [
    {
     "data": {
      "text/plain": [
       "array([2001, 2005, 2012, 2022, 2022])"
      ]
     },
     "execution_count": 38,
     "metadata": {},
     "output_type": "execute_result"
    }
   ],
   "source": [
    "arrYearBought"
   ]
  },
  {
   "cell_type": "code",
   "execution_count": 39,
   "id": "19917e3d-f235-462c-a560-2ceb951be7fe",
   "metadata": {},
   "outputs": [
    {
     "data": {
      "text/plain": [
       "array([2001, 2005, 2012])"
      ]
     },
     "execution_count": 39,
     "metadata": {},
     "output_type": "execute_result"
    }
   ],
   "source": [
    "arrYearBought[0:3]"
   ]
  },
  {
   "cell_type": "code",
   "execution_count": 41,
   "id": "04361afd-1250-4fe6-873e-e4eb35b1932b",
   "metadata": {},
   "outputs": [
    {
     "data": {
      "text/plain": [
       "France    +33\n",
       "USA        +1\n",
       "dtype: object"
      ]
     },
     "execution_count": 41,
     "metadata": {},
     "output_type": "execute_result"
    }
   ],
   "source": [
    "sPhoneCodes[2:5:2]"
   ]
  }
 ],
 "metadata": {
  "kernelspec": {
   "display_name": "conda_tensorflow2_p310",
   "language": "python",
   "name": "conda_tensorflow2_p310"
  },
  "language_info": {
   "codemirror_mode": {
    "name": "ipython",
    "version": 3
   },
   "file_extension": ".py",
   "mimetype": "text/x-python",
   "name": "python",
   "nbconvert_exporter": "python",
   "pygments_lexer": "ipython3",
   "version": "3.10.18"
  }
 },
 "nbformat": 4,
 "nbformat_minor": 5
}
