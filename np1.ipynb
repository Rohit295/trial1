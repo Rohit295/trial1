{
 "cells": [
  {
   "cell_type": "code",
   "execution_count": 12,
   "id": "4e0836e9-c30a-4ba7-9304-c36ec546efb8",
   "metadata": {},
   "outputs": [
    {
     "name": "stdout",
     "output_type": "stream",
     "text": [
      "[1, 3, 5, 7, 9, 11]\n",
      "[0, 2, 4, 6, 8, 10]\n",
      "[0, 6, 20, 42, 72, 110]\n"
     ]
    }
   ],
   "source": [
    "l = list(range(0,12))\n",
    "l\n",
    "\n",
    "listOdd = list(range(1, 13, 2))\n",
    "listEven = list(range(0, 12, 2))\n",
    "print(listOdd)\n",
    "print(listEven)\n",
    "\n",
    "#multiply the 2 lists\n",
    "listProduct = []\n",
    "for counter in range(0, len(listOdd)):\n",
    "    listProduct.append(listOdd[counter] * listEven[counter])\n",
    "print(listProduct)"
   ]
  },
  {
   "cell_type": "code",
   "execution_count": 14,
   "id": "e64da521-a5af-4319-a576-5af890ac91c9",
   "metadata": {},
   "outputs": [
    {
     "name": "stdout",
     "output_type": "stream",
     "text": [
      "1 * 0 = 0\n",
      "3 * 2 = 6\n",
      "5 * 4 = 20\n",
      "7 * 6 = 42\n",
      "9 * 8 = 72\n",
      "11 * 10 = 110\n"
     ]
    }
   ],
   "source": [
    "import numpy as np\n",
    "arr1 = np.array(listOdd)\n",
    "arr2 = np.array(listEven)\n",
    "arr3 = arr1 * arr2\n",
    "for counter in range(0, len(arr3)):\n",
    "    print(arr1[counter], \"*\", arr2[counter], \"=\", arr3[counter])\n"
   ]
  },
  {
   "cell_type": "code",
   "execution_count": 15,
   "id": "ac51a011-9935-4f3e-97ee-3744b1aaf735",
   "metadata": {},
   "outputs": [
    {
     "name": "stdout",
     "output_type": "stream",
     "text": [
      "<class 'numpy.ndarray'>\n"
     ]
    }
   ],
   "source": [
    "print(type(arr3))"
   ]
  },
  {
   "cell_type": "code",
   "execution_count": 25,
   "id": "21ca6a3a-be80-4a22-ac32-752a82a49ef6",
   "metadata": {},
   "outputs": [
    {
     "data": {
      "text/plain": [
       "array([[[3, 3, 3, 3, 3],\n",
       "        [3, 3, 3, 3, 3],\n",
       "        [3, 3, 3, 3, 3]],\n",
       "\n",
       "       [[3, 3, 3, 3, 3],\n",
       "        [3, 3, 3, 3, 3],\n",
       "        [3, 3, 3, 3, 3]]])"
      ]
     },
     "execution_count": 25,
     "metadata": {},
     "output_type": "execute_result"
    }
   ],
   "source": [
    "#multi dim zeros array\n",
    "zeros = np.zeros((2, 3, 5), dtype=int)\n",
    "ones = np.ones((2, 3,5), dtype=int)\n",
    "zeros + ones * 3"
   ]
  },
  {
   "cell_type": "code",
   "execution_count": 29,
   "id": "5813f92f-c41f-42b5-8c0a-395aa5d73826",
   "metadata": {},
   "outputs": [
    {
     "data": {
      "text/plain": [
       "array([[[13, 13, 13, 13, 13],\n",
       "        [13, 13, 13, 13, 13],\n",
       "        [13, 13, 13, 13, 13]],\n",
       "\n",
       "       [[13, 13, 13, 13, 13],\n",
       "        [13, 13, 13, 13, 13],\n",
       "        [13, 13, 13, 13, 13]]])"
      ]
     },
     "execution_count": 29,
     "metadata": {},
     "output_type": "execute_result"
    }
   ],
   "source": [
    "# use full\n",
    "arrF5 = np.full((2, 3, 5), 13)\n",
    "arrF5"
   ]
  },
  {
   "cell_type": "code",
   "execution_count": 32,
   "id": "c01f64eb-3f4d-4c7b-930a-e827c3d5c92c",
   "metadata": {},
   "outputs": [
    {
     "name": "stdout",
     "output_type": "stream",
     "text": [
      "<class 'numpy.ndarray'>\n"
     ]
    }
   ],
   "source": [
    "arr6 = np.array(range(0,10))\n",
    "print(type(arr6))"
   ]
  },
  {
   "cell_type": "code",
   "execution_count": 40,
   "id": "f5d0dd44-86b1-471f-8206-581e315185b6",
   "metadata": {},
   "outputs": [
    {
     "data": {
      "text/plain": [
       "array([ 3.26577596e+00,  1.42555142e+00,  9.64264219e+00, -1.77892555e+00,\n",
       "        8.15032540e+00, -1.24274733e-02,  1.50187082e+00,  4.81013824e+00,\n",
       "        9.43414403e+00, -9.03389598e+00,  2.55410885e+01, -2.03266383e+00,\n",
       "        2.20035343e+01,  1.26377541e+01,  2.75781156e+01, -1.93270348e+01,\n",
       "        3.08143135e+01,  9.19801676e+00,  7.42023748e+00,  5.27490556e+00,\n",
       "       -8.57045390e-01, -1.54729343e+01,  2.04568516e+01,  1.39577997e+01,\n",
       "       -6.15490710e+00,  4.07422391e+00,  3.80676959e+00, -1.97748378e+01,\n",
       "        2.01888338e+01,  9.46007468e+00,  2.73468925e+00, -1.11051609e+01,\n",
       "        4.09242417e+00, -2.97779685e+00, -9.93935883e+00,  1.42373852e+01,\n",
       "       -6.57571144e+00,  1.80185132e+01, -1.30637552e+01,  9.61911969e+00,\n",
       "        2.67557391e+00, -4.77774588e+00, -9.36982663e-01,  5.99903967e+00,\n",
       "        3.39584080e+00,  4.01178402e+00, -3.21786970e+00,  7.53801522e-01,\n",
       "        1.50069154e+01, -4.39203042e+00, -8.31975048e+00, -7.47724547e+00,\n",
       "       -7.48817744e+00,  3.95659466e+01,  2.08315998e+01,  1.72380157e+01,\n",
       "        6.73273367e+00,  2.00595457e+00,  7.06249747e+00,  2.55240321e+01,\n",
       "       -2.00818204e+01,  1.65413649e+01,  3.26356804e+01, -2.12474904e-01,\n",
       "        2.10140959e+01, -3.90439158e+00,  6.27365840e+00,  1.23655889e+01,\n",
       "        1.32201091e+01,  3.70897449e+00,  3.98050481e+00,  1.33716389e+01,\n",
       "       -1.43073460e+00, -7.79583099e+00,  1.04416831e+01, -3.43703918e+00,\n",
       "        4.37913162e+00,  8.67489133e+00,  1.30408872e+01, -1.30925331e+00,\n",
       "        4.78426356e+00,  4.32382302e+00,  1.51999480e+01,  2.48992610e+01,\n",
       "       -1.07443560e+01,  2.67387539e+00,  2.57043546e+01, -1.84798339e+01,\n",
       "        9.63061972e+00,  9.21443290e+00,  1.77987172e+01,  1.35326066e+00,\n",
       "        2.37702741e+01,  1.10659511e+01,  1.73108424e+01,  1.18227817e+01,\n",
       "        9.91935838e+00,  1.23372325e+01,  1.78793304e+00,  1.73062774e+01])"
      ]
     },
     "execution_count": 40,
     "metadata": {},
     "output_type": "execute_result"
    }
   ],
   "source": [
    "np.eye(5, 3, -2)\n",
    "np.random.randn(3, 5, 3)\n",
    "np.random.normal(5, 11, 100)\n"
   ]
  },
  {
   "cell_type": "code",
   "execution_count": 47,
   "id": "63c4e3dc-8f66-4543-8185-d1ca358aea01",
   "metadata": {},
   "outputs": [
    {
     "data": {
      "text/plain": [
       "30"
      ]
     },
     "execution_count": 47,
     "metadata": {},
     "output_type": "execute_result"
    }
   ],
   "source": [
    "arrF5.size"
   ]
  }
 ],
 "metadata": {
  "kernelspec": {
   "display_name": "conda_python3",
   "language": "python",
   "name": "conda_python3"
  },
  "language_info": {
   "codemirror_mode": {
    "name": "ipython",
    "version": 3
   },
   "file_extension": ".py",
   "mimetype": "text/x-python",
   "name": "python",
   "nbconvert_exporter": "python",
   "pygments_lexer": "ipython3",
   "version": "3.10.18"
  }
 },
 "nbformat": 4,
 "nbformat_minor": 5
}
