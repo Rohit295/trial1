{
 "cells": [
  {
   "cell_type": "code",
   "execution_count": 1,
   "id": "4e0836e9-c30a-4ba7-9304-c36ec546efb8",
   "metadata": {},
   "outputs": [
    {
     "name": "stdout",
     "output_type": "stream",
     "text": [
      "[1, 3, 5, 7, 9, 11]\n",
      "[0, 2, 4, 6, 8, 10]\n",
      "[0, 6, 20, 42, 72, 110]\n"
     ]
    }
   ],
   "source": [
    "l = list(range(0,12))\n",
    "l\n",
    "\n",
    "listOdd = list(range(1, 13, 2))\n",
    "listEven = list(range(0, 12, 2))\n",
    "print(listOdd)\n",
    "print(listEven)\n",
    "\n",
    "#multiply the 2 lists\n",
    "listProduct = []\n",
    "for counter in range(0, len(listOdd)):\n",
    "    listProduct.append(listOdd[counter] * listEven[counter])\n",
    "print(listProduct)"
   ]
  },
  {
   "cell_type": "code",
   "execution_count": 14,
   "id": "e64da521-a5af-4319-a576-5af890ac91c9",
   "metadata": {},
   "outputs": [
    {
     "name": "stdout",
     "output_type": "stream",
     "text": [
      "1 * 0 = 0\n",
      "3 * 2 = 6\n",
      "5 * 4 = 20\n",
      "7 * 6 = 42\n",
      "9 * 8 = 72\n",
      "11 * 10 = 110\n"
     ]
    }
   ],
   "source": [
    "import numpy as np\n",
    "arr1 = np.array(listOdd)\n",
    "arr2 = np.array(listEven)\n",
    "arr3 = arr1 * arr2\n",
    "for counter in range(0, len(arr3)):\n",
    "    print(arr1[counter], \"*\", arr2[counter], \"=\", arr3[counter])\n"
   ]
  },
  {
   "cell_type": "code",
   "execution_count": 15,
   "id": "ac51a011-9935-4f3e-97ee-3744b1aaf735",
   "metadata": {},
   "outputs": [
    {
     "name": "stdout",
     "output_type": "stream",
     "text": [
      "<class 'numpy.ndarray'>\n"
     ]
    }
   ],
   "source": [
    "print(type(arr3))"
   ]
  },
  {
   "cell_type": "code",
   "execution_count": 25,
   "id": "21ca6a3a-be80-4a22-ac32-752a82a49ef6",
   "metadata": {},
   "outputs": [
    {
     "data": {
      "text/plain": [
       "array([[[3, 3, 3, 3, 3],\n",
       "        [3, 3, 3, 3, 3],\n",
       "        [3, 3, 3, 3, 3]],\n",
       "\n",
       "       [[3, 3, 3, 3, 3],\n",
       "        [3, 3, 3, 3, 3],\n",
       "        [3, 3, 3, 3, 3]]])"
      ]
     },
     "execution_count": 25,
     "metadata": {},
     "output_type": "execute_result"
    }
   ],
   "source": [
    "#multi dim zeros array\n",
    "zeros = np.zeros((2, 3, 5), dtype=int)\n",
    "ones = np.ones((2, 3,5), dtype=int)\n",
    "zeros + ones * 3"
   ]
  },
  {
   "cell_type": "code",
   "execution_count": 29,
   "id": "5813f92f-c41f-42b5-8c0a-395aa5d73826",
   "metadata": {},
   "outputs": [
    {
     "data": {
      "text/plain": [
       "array([[[13, 13, 13, 13, 13],\n",
       "        [13, 13, 13, 13, 13],\n",
       "        [13, 13, 13, 13, 13]],\n",
       "\n",
       "       [[13, 13, 13, 13, 13],\n",
       "        [13, 13, 13, 13, 13],\n",
       "        [13, 13, 13, 13, 13]]])"
      ]
     },
     "execution_count": 29,
     "metadata": {},
     "output_type": "execute_result"
    }
   ],
   "source": [
    "# use full\n",
    "arrF5 = np.full((2, 3, 5), 13)\n",
    "arrF5"
   ]
  },
  {
   "cell_type": "code",
   "execution_count": 32,
   "id": "c01f64eb-3f4d-4c7b-930a-e827c3d5c92c",
   "metadata": {},
   "outputs": [
    {
     "name": "stdout",
     "output_type": "stream",
     "text": [
      "<class 'numpy.ndarray'>\n"
     ]
    }
   ],
   "source": [
    "arr6 = np.array(range(0,10))\n",
    "print(type(arr6))"
   ]
  },
  {
   "cell_type": "code",
   "execution_count": 52,
   "id": "f5d0dd44-86b1-471f-8206-581e315185b6",
   "metadata": {},
   "outputs": [
    {
     "data": {
      "text/plain": [
       "array([  7.79946807,   5.20000142,  -3.45970918,  -6.15619559,\n",
       "        14.91643212,  13.17528353,  -5.02768345,   8.62060741,\n",
       "        17.88441781, -27.22358957,   9.34984562,  -6.7162332 ,\n",
       "         5.37627842,   8.58833274,   3.74170162,  -0.75882315,\n",
       "         2.38276413,  -5.23964432,   6.40454564,  15.61287819,\n",
       "       -34.69378231,  13.63922616,  -9.42078586,  -6.63878505,\n",
       "        16.81165797,  -9.22272958,  -7.43339587,  -1.37942604,\n",
       "        -4.78937268,  -0.38090065,  20.88145119,  17.78666174,\n",
       "         5.66209569,  20.89851523,  11.23392115,  19.23220638,\n",
       "        -4.52893397,   0.61721524,  -7.11805251, -18.74681664,\n",
       "        -3.90906489,   2.41233015,   0.20599687, -21.87176781,\n",
       "         0.59920765,  20.75268528,   7.34933106,  -1.84849863,\n",
       "       -14.66316675,   9.50593319,  19.00892499,   8.60706168,\n",
       "        -8.61903436,   0.68526683,  18.94617494,  17.72241752,\n",
       "        -5.08625817,   5.26595988,  13.69658543,  24.67173405,\n",
       "        20.10121937,  11.13331197,   5.19957729,   7.28756699,\n",
       "        23.19508553,  -5.48322758,  23.00109966,  15.03866458,\n",
       "        23.09962054,   3.19502562,  16.59521422, -11.09408193,\n",
       "        -1.45966091,   2.17417141,  -3.67648249,  13.40793043,\n",
       "        13.86881521,  -2.27371743,  15.6430905 ,   1.75115366,\n",
       "        -0.1230971 ,  -0.06595941,  -8.86800694,  25.28446081,\n",
       "         8.10244089,  -4.30735306,   9.66608614,  21.27920795,\n",
       "        -1.99974793, -12.79419479,   2.50850508,   5.44111777,\n",
       "        -5.51302672,  13.66371848, -11.82062293,  -7.14801795,\n",
       "        13.98010158,  18.43351464,   4.94222373,  -0.82980067])"
      ]
     },
     "execution_count": 52,
     "metadata": {},
     "output_type": "execute_result"
    }
   ],
   "source": [
    "np.eye(5, 3, -2)\n",
    "np.random.randn(3, 5, 3)\n",
    "arrNormal = np.random.normal(5, 11, 100)\n",
    "arrNormal"
   ]
  },
  {
   "cell_type": "code",
   "execution_count": 63,
   "id": "63c4e3dc-8f66-4543-8185-d1ca358aea01",
   "metadata": {},
   "outputs": [
    {
     "data": {
      "text/plain": [
       "3"
      ]
     },
     "execution_count": 63,
     "metadata": {},
     "output_type": "execute_result"
    }
   ],
   "source": [
    "arrNormal.reshape((10, 5, 2)).ndim"
   ]
  }
 ],
 "metadata": {
  "kernelspec": {
   "display_name": "conda_python3",
   "language": "python",
   "name": "conda_python3"
  },
  "language_info": {
   "codemirror_mode": {
    "name": "ipython",
    "version": 3
   },
   "file_extension": ".py",
   "mimetype": "text/x-python",
   "name": "python",
   "nbconvert_exporter": "python",
   "pygments_lexer": "ipython3",
   "version": "3.10.18"
  }
 },
 "nbformat": 4,
 "nbformat_minor": 5
}
