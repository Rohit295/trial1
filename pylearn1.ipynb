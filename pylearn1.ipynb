{
 "cells": [
  {
   "cell_type": "markdown",
   "id": "7e31d20b-bd59-4212-9ee5-df8d0f8fb6e3",
   "metadata": {},
   "source": [
    "Test"
   ]
  },
  {
   "cell_type": "code",
   "execution_count": null,
   "id": "a97fbfb5-b15e-4886-a8ed-9eb98e6c73a6",
   "metadata": {},
   "outputs": [],
   "source": [
    "test = 4\n",
    "test = 8 + 1\n",
    "newTest = 15"
   ]
  }
 ],
 "metadata": {
  "kernelspec": {
   "display_name": "conda_python3",
   "language": "python",
   "name": "conda_python3"
  },
  "language_info": {
   "codemirror_mode": {
    "name": "ipython",
    "version": 3
   },
   "file_extension": ".py",
   "mimetype": "text/x-python",
   "name": "python",
   "nbconvert_exporter": "python",
   "pygments_lexer": "ipython3",
   "version": "3.10.18"
  }
 },
 "nbformat": 4,
 "nbformat_minor": 5
}
