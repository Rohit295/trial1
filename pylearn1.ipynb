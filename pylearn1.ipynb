{
 "cells": [
  {
   "cell_type": "code",
   "execution_count": 1,
   "id": "a06d4d95-5311-46f0-87c0-36786f96d050",
   "metadata": {},
   "outputs": [
    {
     "name": "stdout",
     "output_type": "stream",
     "text": [
      "The number of decades I have lived is 5 \n",
      "but that does not mean I am old\n"
     ]
    }
   ],
   "source": [
    "age = 52\n",
    "decades = age // 10\n",
    "print(\"The number of decades I have lived is\", decades, \"\\nbut that does not mean I am old\")"
   ]
  },
  {
   "cell_type": "markdown",
   "id": "09db41e4-c468-4ec6-9ba3-6bdf65056236",
   "metadata": {},
   "source": [
    "Introduction to Lists"
   ]
  },
  {
   "cell_type": "code",
   "execution_count": 8,
   "id": "bc85a3b4-ea8e-49e6-b2c8-6891db830c42",
   "metadata": {},
   "outputs": [
    {
     "data": {
      "text/plain": [
       "[4, 9, 16, 25]"
      ]
     },
     "execution_count": 8,
     "metadata": {},
     "output_type": "execute_result"
    }
   ],
   "source": [
    "#list of squares\n",
    "squares = [1, 4, 9, 16, 25, 36]\n",
    "squares[1:5]"
   ]
  },
  {
   "cell_type": "code",
   "execution_count": 9,
   "id": "2c0ef322-ef7f-4c90-9285-4e676ac3f7f4",
   "metadata": {},
   "outputs": [
    {
     "data": {
      "text/plain": [
       "[1, 4, 9, 16, 25, 36, 49, 64, 81, 100]"
      ]
     },
     "execution_count": 9,
     "metadata": {},
     "output_type": "execute_result"
    }
   ],
   "source": [
    "squares += [49, 64, 81, 100]\n",
    "squares"
   ]
  },
  {
   "cell_type": "code",
   "execution_count": 17,
   "id": "145ffd89-ceb9-4a55-a21e-7d5fcd1f317d",
   "metadata": {},
   "outputs": [
    {
     "data": {
      "text/plain": [
       "[1, 8, 27, 64, 125, 216, 343, 512, 729, 1000]"
      ]
     },
     "execution_count": 17,
     "metadata": {},
     "output_type": "execute_result"
    }
   ],
   "source": [
    "cubes = []\n",
    "for counter in range(10):\n",
    "    cubes += [(counter+1)**3]\n",
    "cubes"
   ]
  },
  {
   "cell_type": "code",
   "execution_count": 18,
   "id": "7cae5a19-4b88-4b1a-9aed-8854e3e2e0d5",
   "metadata": {},
   "outputs": [
    {
     "data": {
      "text/plain": [
       "[[1, 4, 9, 16, 25, 36, 49, 64, 81, 100],\n",
       " [1, 8, 27, 64, 125, 216, 343, 512, 729, 1000]]"
      ]
     },
     "execution_count": 18,
     "metadata": {},
     "output_type": "execute_result"
    }
   ],
   "source": [
    "powers = [squares, cubes]\n",
    "powers"
   ]
  },
  {
   "cell_type": "code",
   "execution_count": 20,
   "id": "c0f01cd1-8cca-4832-a8b4-a00d1dc18027",
   "metadata": {},
   "outputs": [
    {
     "data": {
      "text/plain": [
       "9"
      ]
     },
     "execution_count": 20,
     "metadata": {},
     "output_type": "execute_result"
    }
   ],
   "source": [
    "powers[0][2]"
   ]
  },
  {
   "cell_type": "code",
   "execution_count": 24,
   "id": "1c8de4c0-9cc5-4b5a-8169-c704667a2497",
   "metadata": {},
   "outputs": [
    {
     "name": "stdout",
     "output_type": "stream",
     "text": [
      "0\n",
      "1\n",
      "1\n",
      "2\n",
      "3\n",
      "5\n",
      "8\n",
      "13\n",
      "21\n",
      "34\n"
     ]
    }
   ],
   "source": [
    "#Basic Fibonacci sequence\n",
    "a, b = 0, 1\n",
    "while a<50:\n",
    "    print(a)\n",
    "    a, b = b, a+b\n"
   ]
  },
  {
   "cell_type": "code",
   "execution_count": 31,
   "id": "578753a7-8b17-45d9-a111-641856b7688d",
   "metadata": {},
   "outputs": [
    {
     "name": "stdout",
     "output_type": "stream",
     "text": [
      "Rohit\n",
      "Rohini\n",
      "Inika\n",
      "Ilakshi\n",
      "Saphira\n",
      "Silny\n",
      "Rohit 50\n",
      "Rohini 50\n",
      "Inika 20\n",
      "Ilakshi 18\n",
      "Saphira ageless\n",
      "Silny 8\n"
     ]
    }
   ],
   "source": [
    "# iterate over a list and then a collection\n",
    "names = [\"Rohit\", \"Rohini\", \"Inika\", \"Ilakshi\", \"Saphira\", \"Silny\"]\n",
    "for name in names:\n",
    "    print(name)\n",
    "\n",
    "ageProfile = {\"Rohit\":50, \"Rohini\":50, \"Inika\":20, \"Ilakshi\":18, \"Saphira\":\"ageless\", \"Silny\":8}\n",
    "for name, age in ageProfile.items():\n",
    "    print (name, age)"
   ]
  },
  {
   "cell_type": "code",
   "execution_count": 35,
   "id": "73ff301a-e5b6-499a-9266-07a418f2cbcf",
   "metadata": {},
   "outputs": [
    {
     "name": "stdout",
     "output_type": "stream",
     "text": [
      "<class 'list'> <class 'dict'>\n",
      "('Rohit', 50)\n",
      "('Rohini', 50)\n",
      "('Inika', 20)\n",
      "('Ilakshi', 18)\n",
      "('Saphira', 'ageless')\n",
      "('Silny', 8)\n"
     ]
    }
   ],
   "source": [
    "print(type(names), type(ageProfile))\n",
    "\n",
    "for k in ageProfile.items():\n",
    "    print(k)"
   ]
  }
 ],
 "metadata": {
  "kernelspec": {
   "display_name": "conda_python3",
   "language": "python",
   "name": "conda_python3"
  },
  "language_info": {
   "codemirror_mode": {
    "name": "ipython",
    "version": 3
   },
   "file_extension": ".py",
   "mimetype": "text/x-python",
   "name": "python",
   "nbconvert_exporter": "python",
   "pygments_lexer": "ipython3",
   "version": "3.10.18"
  }
 },
 "nbformat": 4,
 "nbformat_minor": 5
}
