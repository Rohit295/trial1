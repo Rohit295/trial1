{
 "cells": [
  {
   "cell_type": "code",
   "execution_count": 7,
   "id": "2701a6c0-dd21-42d8-931f-fc593ca162ae",
   "metadata": {},
   "outputs": [
    {
     "data": {
      "text/plain": [
       "array([[ 10,  20,  15,  35],\n",
       "       [ 30,  40,  55,  75],\n",
       "       [ 50,  60,  95, 115],\n",
       "       [ 70,  80, 135, 155],\n",
       "       [ 90, 100, 175, 195]])"
      ]
     },
     "execution_count": 7,
     "metadata": {},
     "output_type": "execute_result"
    }
   ],
   "source": [
    "import numpy as np\n",
    "arr1 = np.arange(10, 110, 10).reshape(5, 2)\n",
    "arr2 = np.arange(15, 215, 20).reshape(5, 2)\n",
    "arr3 = np.concatenate([arr1 , arr2], 1)\n",
    "arr3"
   ]
  },
  {
   "cell_type": "code",
   "execution_count": 11,
   "id": "1a91ad5c-8060-4d0f-9cd1-b77f8a3ef80e",
   "metadata": {},
   "outputs": [
    {
     "data": {
      "text/plain": [
       "[array([[ 10,  20,  15,  35],\n",
       "        [ 30,  40,  55,  75],\n",
       "        [ 50,  60,  95, 115],\n",
       "        [ 70,  80, 135, 155],\n",
       "        [ 90, 100, 175, 195]])]"
      ]
     },
     "execution_count": 11,
     "metadata": {},
     "output_type": "execute_result"
    }
   ],
   "source": [
    "np.hsplit(arr3, 1)"
   ]
  },
  {
   "cell_type": "code",
   "execution_count": 4,
   "id": "312ca8a2-5ce8-49f4-b6b7-cb2c66c0beab",
   "metadata": {},
   "outputs": [
    {
     "data": {
      "text/plain": [
       "[array([[10, 20, 15, 35],\n",
       "        [30, 40, 55, 75]]),\n",
       " array([[ 50,  60,  95, 115]]),\n",
       " array([[ 70,  80, 135, 155],\n",
       "        [ 90, 100, 175, 195]])]"
      ]
     },
     "execution_count": 4,
     "metadata": {},
     "output_type": "execute_result"
    }
   ],
   "source": [
    "np.vsplit(arr3, [2, 3])"
   ]
  },
  {
   "cell_type": "code",
   "execution_count": 16,
   "id": "35791bcf-0a0a-4cf5-8247-7eb1771bd76e",
   "metadata": {},
   "outputs": [
    {
     "data": {
      "text/plain": [
       "array([[ 10,  20,  15,  35],\n",
       "       [ 30,  40,  55,  75],\n",
       "       [ 50,  60,  11,  12],\n",
       "       [ 70,  80,  21,  22],\n",
       "       [ 90, 100, 175, 195]])"
      ]
     },
     "execution_count": 16,
     "metadata": {},
     "output_type": "execute_result"
    }
   ],
   "source": [
    "#slicing\n",
    "arr3[2:4,2:4] = np.array([[11, 12],\n",
    "                          [21,22]])\n",
    "arr3"
   ]
  },
  {
   "cell_type": "code",
   "execution_count": 27,
   "id": "ac56dc88-be4a-458b-b738-9e1a2fdf27cc",
   "metadata": {},
   "outputs": [
    {
     "data": {
      "text/plain": [
       "14"
      ]
     },
     "execution_count": 27,
     "metadata": {},
     "output_type": "execute_result"
    }
   ],
   "source": [
    "arr4 = np.array(np.arange(10, 20, 2))\n",
    "np.split(arr3, [2,4])\n",
    "arr4[2]\n"
   ]
  },
  {
   "cell_type": "code",
   "execution_count": 28,
   "id": "1c47cc07-ac0e-4591-96d7-83f405beeee8",
   "metadata": {},
   "outputs": [
    {
     "data": {
      "text/plain": [
       "array([[ 10,  20,  15,  35],\n",
       "       [ 30,  40,  55,  75],\n",
       "       [ 50,  60,  11,  12],\n",
       "       [ 70,  80,  21,  22],\n",
       "       [ 90, 100, 175, 195]])"
      ]
     },
     "execution_count": 28,
     "metadata": {},
     "output_type": "execute_result"
    }
   ],
   "source": [
    "arr3"
   ]
  },
  {
   "cell_type": "code",
   "execution_count": 33,
   "id": "70fa8237-ff2c-45fd-93be-4204ea9511f3",
   "metadata": {},
   "outputs": [
    {
     "data": {
      "text/plain": [
       "array([[ 10,  20, 121, 122],\n",
       "       [ 30,  40, 287, 426],\n",
       "       [ 50,  60, 891,  41],\n",
       "       [ 70,  80,  21,  22],\n",
       "       [ 90, 100, 175, 195]])"
      ]
     },
     "execution_count": 33,
     "metadata": {},
     "output_type": "execute_result"
    }
   ],
   "source": [
    "arr3[:3, 2:] = np.array([[121, 122],\n",
    "                         [287, 426],\n",
    "                         [891, 41]])\n",
    "arr3"
   ]
  },
  {
   "cell_type": "code",
   "execution_count": 37,
   "id": "2cb67718-ebd1-43d5-923d-9d16241c9132",
   "metadata": {},
   "outputs": [
    {
     "data": {
      "text/plain": [
       "array([[ 10,  20, 121,  11],\n",
       "       [ 30,  40, 287,  12],\n",
       "       [ 50,  60, 891,  13],\n",
       "       [ 70,  80,  21,  14],\n",
       "       [ 90, 100, 175,  15]])"
      ]
     },
     "execution_count": 37,
     "metadata": {},
     "output_type": "execute_result"
    }
   ],
   "source": [
    "arr3[:, 3] = [11, 12, 13, 14, 15]\n",
    "arr3"
   ]
  },
  {
   "cell_type": "code",
   "execution_count": 42,
   "id": "f4c641bb-8798-4ee3-8c9d-280277172b14",
   "metadata": {},
   "outputs": [
    {
     "data": {
      "text/plain": [
       "array([12, 18])"
      ]
     },
     "execution_count": 42,
     "metadata": {},
     "output_type": "execute_result"
    }
   ],
   "source": [
    "indices = [1,4]\n",
    "arr4[indices]"
   ]
  },
  {
   "cell_type": "code",
   "execution_count": 43,
   "id": "054ae31b-6f52-4a1b-a533-dffcd046d14e",
   "metadata": {},
   "outputs": [
    {
     "data": {
      "text/plain": [
       "array([[0., 0., 0., 0., 0., 0., 0., 0., 0., 0.],\n",
       "       [0., 0., 0., 0., 0., 0., 0., 0., 0., 0.],\n",
       "       [0., 0., 0., 0., 0., 0., 0., 0., 0., 0.],\n",
       "       [0., 0., 0., 0., 0., 0., 0., 0., 0., 0.],\n",
       "       [0., 0., 0., 0., 0., 0., 0., 0., 0., 0.],\n",
       "       [0., 0., 0., 0., 0., 0., 0., 0., 0., 0.],\n",
       "       [0., 0., 0., 0., 0., 0., 0., 0., 0., 0.],\n",
       "       [0., 0., 0., 0., 0., 0., 0., 0., 0., 0.],\n",
       "       [0., 0., 0., 0., 0., 0., 0., 0., 0., 0.],\n",
       "       [0., 0., 0., 0., 0., 0., 0., 0., 0., 0.]])"
      ]
     },
     "execution_count": 43,
     "metadata": {},
     "output_type": "execute_result"
    }
   ],
   "source": [
    "arrZeroes = np.zeros((10, 10))\n",
    "arrZeroes"
   ]
  },
  {
   "cell_type": "code",
   "execution_count": 48,
   "id": "f26be194-b230-4bf6-af88-d676db9877b4",
   "metadata": {},
   "outputs": [
    {
     "data": {
      "text/plain": [
       "array([[ 0.,  1.,  2.,  3.,  4.,  5.,  6.,  7.,  8.,  9.],\n",
       "       [ 1.,  2.,  3.,  4.,  5.,  6.,  7.,  8.,  9., 10.],\n",
       "       [ 2.,  3.,  4.,  5.,  6.,  7.,  8.,  9., 10., 11.],\n",
       "       [ 3.,  4.,  5.,  6.,  7.,  8.,  9., 10., 11., 12.],\n",
       "       [ 4.,  5.,  6.,  7.,  8.,  9., 10., 11., 12., 13.],\n",
       "       [ 5.,  6.,  7.,  8.,  9., 10., 11., 12., 13., 14.],\n",
       "       [ 6.,  7.,  8.,  9., 10., 11., 12., 13., 14., 15.],\n",
       "       [ 7.,  8.,  9., 10., 11., 12., 13., 14., 15., 16.],\n",
       "       [ 8.,  9., 10., 11., 12., 13., 14., 15., 16., 17.],\n",
       "       [ 9., 10., 11., 12., 13., 14., 15., 16., 17., 18.]])"
      ]
     },
     "execution_count": 48,
     "metadata": {},
     "output_type": "execute_result"
    }
   ],
   "source": [
    "for row in range(len(arrZeroes)):\n",
    "    for col in range(len(arrZeroes[0])):\n",
    "        arrZeroes[row, col] = row+col\n",
    "\n",
    "arrZeroes"
   ]
  },
  {
   "cell_type": "code",
   "execution_count": 50,
   "id": "eda9cd22-b235-477f-be57-d2df03007125",
   "metadata": {},
   "outputs": [
    {
     "data": {
      "text/plain": [
       "105.5"
      ]
     },
     "execution_count": 50,
     "metadata": {},
     "output_type": "execute_result"
    }
   ],
   "source": [
    "np.mean(arr3)"
   ]
  }
 ],
 "metadata": {
  "kernelspec": {
   "display_name": "conda_python3",
   "language": "python",
   "name": "conda_python3"
  },
  "language_info": {
   "codemirror_mode": {
    "name": "ipython",
    "version": 3
   },
   "file_extension": ".py",
   "mimetype": "text/x-python",
   "name": "python",
   "nbconvert_exporter": "python",
   "pygments_lexer": "ipython3",
   "version": "3.10.18"
  }
 },
 "nbformat": 4,
 "nbformat_minor": 5
}
