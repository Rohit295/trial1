{
 "cells": [
  {
   "cell_type": "code",
   "execution_count": null,
   "id": "a83a1473-1e2a-4c49-9f61-805c5124f810",
   "metadata": {},
   "outputs": [],
   "source": [
    "# Person Class\n",
    "class Person:\n",
    "    def __init__(self, name, age):\n",
    "        self.name = name\n",
    "        self.age = age\n",
    "\n",
    "    def printPerson(self):\n",
    "        print(\"This is\", self.name, \"aged\", self.age)\n",
    "\n",
    "p = Person(\"Rohit\", 50)\n",
    "p.printPerson()\n"
   ]
  },
  {
   "cell_type": "code",
   "execution_count": 16,
   "id": "49a3d61a-5764-40df-82e6-c334bf4226a5",
   "metadata": {},
   "outputs": [
    {
     "name": "stdout",
     "output_type": "stream",
     "text": [
      "Tried to Divide by Zero\n",
      "Tried to Divide by Zero\n",
      "Tried to Divide by Zero\n",
      "Tried to Divide by Zero\n",
      "Tried to Divide by Zero\n",
      "Tried to Divide by Zero\n",
      "Tried to Divide by Zero\n",
      "Tried to Divide by Zero\n",
      "Tried to Divide by Zero\n",
      "Tried to Divide by Zero\n"
     ]
    }
   ],
   "source": [
    "#lets play with exceptions\n",
    "for counter in range(10):\n",
    "    try:\n",
    "        divideByZero = 100 / 0\n",
    "    except:\n",
    "        print(\"Tried to Divide by Zero\")"
   ]
  },
  {
   "cell_type": "code",
   "execution_count": null,
   "id": "02171f3b-91f5-4ada-a3e6-baa1c490da41",
   "metadata": {},
   "outputs": [],
   "source": []
  }
 ],
 "metadata": {
  "kernelspec": {
   "display_name": "conda_python3",
   "language": "python",
   "name": "conda_python3"
  },
  "language_info": {
   "codemirror_mode": {
    "name": "ipython",
    "version": 3
   },
   "file_extension": ".py",
   "mimetype": "text/x-python",
   "name": "python",
   "nbconvert_exporter": "python",
   "pygments_lexer": "ipython3",
   "version": "3.10.18"
  }
 },
 "nbformat": 4,
 "nbformat_minor": 5
}
